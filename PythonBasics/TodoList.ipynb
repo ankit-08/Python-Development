{
 "cells": [
  {
   "cell_type": "markdown",
   "id": "86c7722f",
   "metadata": {},
   "source": [
    "#ToDoList "
   ]
  },
  {
   "cell_type": "code",
   "execution_count": 3,
   "id": "400396c3",
   "metadata": {},
   "outputs": [
    {
     "name": "stdout",
     "output_type": "stream",
     "text": [
      "Hey admin, what you want to do? \n",
      "1. View all the existing tasks\n",
      "2. Add a new task\n",
      "3. Update a task\n",
      "4. Task completion\n",
      "6. New Operation\n",
      "5. ShutDown The System\n",
      "No Tasks Available\n",
      "System Shutdown Successfully\n"
     ]
    }
   ],
   "source": [
    "varInput=0\n",
    "toDoList=[]\n",
    "print(\"Hey admin, what you want to do? \\n\"\n",
    "          \"1. View all the existing tasks\\n\"\n",
    "          \"2. Add a new task\\n\"\n",
    "          \"3. Update a task\\n\"\n",
    "          \"4. Task completion\\n\"\n",
    "          \"6. New Operation\\n\"\n",
    "          \"5. ShutDown The System\")\n",
    "while(varInput!= 5):\n",
    "    varInput= int(input(\"Choose an option\"))\n",
    "\n",
    "    if varInput == 1:\n",
    "        if(len(toDoList) == 0):\n",
    "            print(\"No Tasks Available\")\n",
    "        else:\n",
    "            print(\"------------------Tasks to Complete------------------\")\n",
    "            for item in toDoList:\n",
    "                print(item)\n",
    "            print(\"------------------End of TaskList------------------\\n\")\n",
    "    elif varInput == 2:\n",
    "        toDoList.append(input(\"Enter a new task:\"))\n",
    "    elif varInput == 3:\n",
    "        varIndex = int(input(\"Enter the task number you want to update: \"))\n",
    "        if 1 <= varIndex <= len(toDoList):\n",
    "            newTask = input(\"Enter the new task description: \")\n",
    "            toDoList[varIndex - 1] = newTask\n",
    "        else:\n",
    "            print(\"Invalid task number!\")\n",
    "    elif varInput ==4:\n",
    "        task_completed = int(input(\"Enter the number of the task you have completed: \"))\n",
    "        if 1 <= task_completed <= len(toDoList):\n",
    "            removed_task = toDoList.pop(task_completed - 1)\n",
    "            print(f\"Task '{removed_task}' marked as completed and removed from the list.\")\n",
    "        else:\n",
    "            print(\"Invalid task number!\")\n",
    "    elif varInput == 5:\n",
    "        print(\"System Shutdown Successfully\")\n",
    "        break\n",
    "    else:\n",
    "        print(\"Invalid option, please try again.\")\n"
   ]
  }
 ],
 "metadata": {
  "kernelspec": {
   "display_name": ".venv",
   "language": "python",
   "name": "python3"
  },
  "language_info": {
   "codemirror_mode": {
    "name": "ipython",
    "version": 3
   },
   "file_extension": ".py",
   "mimetype": "text/x-python",
   "name": "python",
   "nbconvert_exporter": "python",
   "pygments_lexer": "ipython3",
   "version": "3.12.1"
  }
 },
 "nbformat": 4,
 "nbformat_minor": 5
}
